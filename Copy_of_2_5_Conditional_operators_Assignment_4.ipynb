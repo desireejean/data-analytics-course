{
  "nbformat": 4,
  "nbformat_minor": 0,
  "metadata": {
    "colab": {
      "name": "Copy of 2-5 Conditional operators Assignment 4.ipynb",
      "provenance": [],
      "include_colab_link": true
    },
    "kernelspec": {
      "name": "python3",
      "display_name": "Python 3"
    },
    "language_info": {
      "name": "python"
    }
  },
  "cells": [
    {
      "cell_type": "markdown",
      "metadata": {
        "id": "view-in-github",
        "colab_type": "text"
      },
      "source": [
        "<a href=\"https://colab.research.google.com/github/desireejean/data-analytics-course/blob/main/Copy_of_2_5_Conditional_operators_Assignment_4.ipynb\" target=\"_parent\"><img src=\"https://colab.research.google.com/assets/colab-badge.svg\" alt=\"Open In Colab\"/></a>"
      ]
    },
    {
      "cell_type": "markdown",
      "source": [
        "##2-5 Conditional operators and if statements\n"
      ],
      "metadata": {
        "id": "JJNI2qrwqgYB"
      }
    },
    {
      "cell_type": "markdown",
      "source": [
        "## Task 1: Admin user names\n",
        "* Make a list of 5 or more usernames, including an admin account. Imagine you are writing code that will welcome people to your application on login. Loop through the list and print your greeting.\n",
        "* If the admin account logs in, give them a special greeting.  They’re the admin, after all!\n",
        "* Other users can get the generic greeting"
      ],
      "metadata": {
        "id": "mXe7c59GqpEX"
      }
    },
    {
      "cell_type": "code",
      "execution_count": null,
      "metadata": {
        "id": "TFOFGzWWqSNV",
        "outputId": "a0c22496-800c-4c86-dd68-9e9dc90069b6",
        "colab": {
          "base_uri": "https://localhost:8080/"
        }
      },
      "outputs": [
        {
          "output_type": "stream",
          "name": "stdout",
          "text": [
            "Welcome happysmile32\n",
            "Welcome beyonce\n",
            "Welcome edgarf28 You are the Admin!\n",
            "Welcome msmith01\n",
            "Welcome cowboy521\n"
          ]
        }
      ],
      "source": [
        "usernames = ['happysmile32', 'beyonce', 'edgarf28','msmith01','cowboy521']\n",
        "\n",
        "for username in usernames:\n",
        "  if username == 'edgarf28':\n",
        "    print('Welcome ' + username + ' You are the Admin!')\n",
        "  else:\n",
        "    print('Welcome ' + username)"
      ]
    },
    {
      "cell_type": "code",
      "source": [
        ""
      ],
      "metadata": {
        "id": "j3Hr_Lv7qw0I"
      },
      "execution_count": null,
      "outputs": []
    },
    {
      "cell_type": "code",
      "source": [
        ""
      ],
      "metadata": {
        "id": "OI5G7XhaqxKD"
      },
      "execution_count": null,
      "outputs": []
    },
    {
      "cell_type": "code",
      "source": [
        ""
      ],
      "metadata": {
        "id": "njnu07sIJKhq"
      },
      "execution_count": null,
      "outputs": []
    },
    {
      "cell_type": "markdown",
      "source": [
        "##Task 2: Numbers\n",
        "\n",
        "* Store numbers 1-10 in a list\n",
        "* Loop through the list\n",
        "* Use an if-elif-else chain inside your loop to print the ordinal ending for each number – for example – 1st, 2nd, 3rd … etc."
      ],
      "metadata": {
        "id": "g3nnh2NJq9gY"
      }
    },
    {
      "cell_type": "code",
      "source": [
        "numbers = list(range(1,11))\n",
        "for num in numbers:\n",
        "  if num == 1:\n",
        "    print(\"1st\")\n",
        "  elif num == 2:\n",
        "    print(\"2nd\")\n",
        "  elif num == 3:\n",
        "    print(\"3rd\")\n",
        "  else:\n",
        "    print(str(num) + \"th\")\n",
        "  \n",
        "\n",
        "\n"
      ],
      "metadata": {
        "id": "DwBbjFgTrWps",
        "colab": {
          "base_uri": "https://localhost:8080/"
        },
        "outputId": "1e8f1730-01c7-44b1-a096-61a122e56dd0"
      },
      "execution_count": null,
      "outputs": [
        {
          "output_type": "stream",
          "name": "stdout",
          "text": [
            "1st\n",
            "2nd\n",
            "3rd\n",
            "4th\n",
            "5th\n",
            "6th\n",
            "7th\n",
            "8th\n",
            "9th\n",
            "10th\n"
          ]
        }
      ]
    },
    {
      "cell_type": "code",
      "source": [
        "\n",
        "  \n"
      ],
      "metadata": {
        "id": "UxS7B_zxeLnM"
      },
      "execution_count": null,
      "outputs": []
    },
    {
      "cell_type": "code",
      "source": [
        "\n"
      ],
      "metadata": {
        "id": "hlU__zZFrXAV"
      },
      "execution_count": null,
      "outputs": []
    },
    {
      "cell_type": "code",
      "source": [
        ""
      ],
      "metadata": {
        "id": "UwohuUMIrXKR"
      },
      "execution_count": null,
      "outputs": []
    }
  ]
}